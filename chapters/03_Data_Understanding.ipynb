{
 "cells": [
  {
   "cell_type": "markdown",
   "id": "7ed2f012",
   "metadata": {
    "id": "YS9ghFH5CGVp"
   },
   "source": [
    "<img src=\"miguel_frutos.jpg\"  width=150, height=200 align=\"right\" form= 'circle' />\n",
    "\n",
    "# DATA SCIENCE NOTEBOOK COMPETITION\n",
    "# **01- Data Understanding**"
   ]
  },
  {
   "cell_type": "markdown",
   "id": "d27dc2fb",
   "metadata": {},
   "source": [
    "# Meet and Greet Data\n",
    "\n",
    "This is the meet and greet step. Get to know your data by first name and learn a little bit about it. What does it look like (datatype and values), what makes it tick (independent/feature variables(s)), what's its goals in life (dependent/target variable(s)). Think of it like a first date, before you jump in and start poking it in the bedroom.\n",
    "\n",
    "To begin this step, we first import our data. Next we use the info() and sample() function, to get a quick and dirty overview of variable datatypes (i.e. qualitative vs quantitative). Click here for the [Source Data Dictionary](https://www.kaggle.com/c/titanic/data).\n",
    "\n",
    "1. The *Survived* variable is our outcome or dependent variable. It is a binary nominal datatype of 1 for survived and 0 for did not survive. All other variables are potential predictor or independent variables. **It's important to note, more predictor variables do not make a better model, but the right variables.**\n",
    "2. The *PassengerID* and *Ticket* variables are assumed to be random unique identifiers, that have no impact on the outcome variable. Thus, they will be excluded from analysis.\n",
    "3. The *Pclass* variable is an ordinal datatype for the ticket class, a proxy for socio-economic status (SES), representing 1 = upper class, 2 = middle class, and 3 = lower class.\n",
    "4. The *Name* variable is a nominal datatype. It could be used in feature engineering to derive the gender from title, family size from surname, and SES from titles like doctor or master. Since these variables already exist, we'll make use of it to see if title, like master, makes a difference.\n",
    "5. The *Sex* and *Embarked* variables are a nominal datatype. They will be converted to dummy variables for mathematical calculations.\n",
    "6. The *Age* and *Fare* variable are continuous quantitative datatypes.\n",
    "7. The *SibSp* represents number of related siblings/spouse aboard and *Parch* represents number of related parents/children aboard. Both are discrete quantitative datatypes. This can be used for feature engineering to create a family size and is alone variable.\n",
    "8. The *Cabin* variable is a nominal datatype that can be used in feature engineering for approximate position on ship when the incident occurred and SES from deck levels. However, since there are many null values, it does not add value and thus is excluded from analysis."
   ]
  },
  {
   "cell_type": "markdown",
   "metadata": {},
   "source": [
    "### Dtype"
   ]
  },
  {
   "cell_type": "code",
   "execution_count": null,
   "metadata": {},
   "outputs": [],
   "source": [
    "data = pd.read_csv(\"/datasets/Prostate Cancer.csv\")\n",
    "\n",
    "# Convert int to floats for these columns\n",
    "columns_to_convert = [\"radius\", \"texture\", \"perimeter\", \"area\"]\n",
    "data[columns_to_convert] = data[columns_to_convert].astype(float)\n",
    "\n",
    "# Convert target variable into a float\n",
    "data.diagnosis_result = data.diagnosis_result.apply(\n",
    "    lambda value: 0.0 if value == \"B\" else 1.0\n",
    ")\n",
    "# Use column called 'id' as index.\n",
    "data = data.set_index(\"id\")\n",
    "data.head()\n",
    "\n",
    "# Set a variable (features) with the names of all the features BUT the target variable.\n",
    "target = \"diagnosis_result\"\n",
    "features = list(set(data.columns) - set([target]))\n",
    "print(f\"The list of columns that represent features is:\\n{features}\")\n",
    "print(f\"So, we have {len(features)} dimensions in our feature vectors.\")"
   ]
  },
  {
   "cell_type": "markdown",
   "metadata": {},
   "source": []
  }
 ],
 "metadata": {
  "kernelspec": {
   "display_name": "Python 3.7.9 64-bit",
   "language": "python",
   "name": "python3"
  },
  "language_info": {
   "codemirror_mode": {
    "name": "ipython",
    "version": 3
   },
   "file_extension": ".py",
   "mimetype": "text/x-python",
   "name": "python",
   "nbconvert_exporter": "python",
   "pygments_lexer": "ipython3",
   "version": "3.7.9"
  },
  "orig_nbformat": 4,
  "vscode": {
   "interpreter": {
    "hash": "949777d72b0d2535278d3dc13498b2535136f6dfe0678499012e853ee9abcab1"
   }
  }
 },
 "nbformat": 4,
 "nbformat_minor": 2
}
